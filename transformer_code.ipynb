{
 "cells": [
  {
   "cell_type": "code",
   "execution_count": 2,
   "metadata": {},
   "outputs": [],
   "source": [
    "import os\n",
    "import numpy as np\n",
    "from scipy.io import loadmat\n",
    "from sklearn.model_selection import train_test_split\n"
   ]
  },
  {
   "cell_type": "code",
   "execution_count": 3,
   "metadata": {},
   "outputs": [],
   "source": [
    "data_dir = \"D:/mohan/vibration/cwru/raw\"  # Update this to your actual directory path\n",
    "segment_length = 2048\n",
    "test_size = 0.2\n",
    "val_size = 0.1\n",
    "random_state = 42"
   ]
  },
  {
   "cell_type": "code",
   "execution_count": 4,
   "metadata": {},
   "outputs": [],
   "source": [
    "def get_label_from_filename(fname):\n",
    "    \"\"\"Assign labels based on filename conventions.\n",
    "    Adjust logic if naming conventions differ.\"\"\"\n",
    "    fname = fname.lower()\n",
    "    if \"normal\" in fname:\n",
    "        return 0  # Normal condition\n",
    "    elif fname.startswith(\"b\"):\n",
    "        return 1  # Ball fault\n",
    "    elif fname.startswith(\"ir\"):\n",
    "        return 2  # Inner Race fault\n",
    "    elif fname.startswith(\"or\"):\n",
    "        return 3  # Outer Race fault\n",
    "    else:\n",
    "        raise ValueError(f\"Unknown fault type in filename {fname}\")"
   ]
  },
  {
   "cell_type": "code",
   "execution_count": 5,
   "metadata": {},
   "outputs": [
    {
     "name": "stdout",
     "output_type": "stream",
     "text": [
      "Total segments: 2369\n",
      "Label distribution: {np.int64(0): np.int64(236), np.int64(1): np.int64(711), np.int64(2): np.int64(711), np.int64(3): np.int64(711)}\n",
      "Train set: (1658, 2048) (1658,)\n",
      "Val set: (237, 2048) (237,)\n",
      "Test set: (474, 2048) (474,)\n"
     ]
    }
   ],
   "source": [
    "import os\n",
    "import glob\n",
    "import re\n",
    "import numpy as np\n",
    "from scipy.io import loadmat\n",
    "from sklearn.model_selection import train_test_split\n",
    "\n",
    "# -----------------------\n",
    "# Configuration\n",
    "# -----------------------\n",
    "data_dir = \"D:/mohan/vibration/cwru/raw/\"\n",
    "segment_length = 2048\n",
    "test_size = 0.2\n",
    "val_size = 0.1\n",
    "random_state = 42\n",
    "\n",
    "def get_label_from_filename(fname):\n",
    "    fname = fname.lower()\n",
    "    if \"normal\" in fname:\n",
    "        return 0  # Normal condition\n",
    "    elif fname.startswith(\"b\"):\n",
    "        return 1  # Ball fault\n",
    "    elif fname.startswith(\"ir\"):\n",
    "        return 2  # Inner Race fault\n",
    "    elif fname.startswith(\"or\"):\n",
    "        return 3  # Outer Race fault\n",
    "    else:\n",
    "        raise ValueError(f\"Unknown fault type in filename: {fname}\")\n",
    "\n",
    "# -----------------------\n",
    "# Load and Segment Data from All Files\n",
    "# -----------------------\n",
    "segments = []\n",
    "labels = []\n",
    "\n",
    "mat_files = glob.glob(os.path.join(data_dir, \"*.mat\"))\n",
    "if not mat_files:\n",
    "    raise FileNotFoundError(f\"No .mat files found in {data_dir}\")\n",
    "\n",
    "for filepath in mat_files:\n",
    "    fname = os.path.basename(filepath)\n",
    "    label = get_label_from_filename(fname)\n",
    "    \n",
    "    # Load the MATLAB file\n",
    "    mat_data = loadmat(filepath)\n",
    "    # Identify the DE_time variable\n",
    "    possible_keys = [k for k in mat_data.keys() if k.endswith(\"_DE_time\")]\n",
    "    if not possible_keys:\n",
    "        raise ValueError(f\"No DE_time variable found in {fname}\")\n",
    "    # Assuming one DE_time variable per file\n",
    "    chosen_key = possible_keys[0]\n",
    "    \n",
    "    # Extract the vibration signal (DE_time)\n",
    "    signal = mat_data[chosen_key].ravel()\n",
    "\n",
    "    # Segment the signal\n",
    "    num_samples = len(signal)\n",
    "    for start in range(0, num_samples - segment_length + 1, segment_length):\n",
    "        segment = signal[start:start+segment_length]\n",
    "        segments.append(segment)\n",
    "        labels.append(label)\n",
    "\n",
    "segments = np.array(segments)\n",
    "labels = np.array(labels)\n",
    "\n",
    "print(f\"Total segments: {segments.shape[0]}\")\n",
    "print(\"Label distribution:\", {lbl: np.sum(labels == lbl) for lbl in np.unique(labels)})\n",
    "\n",
    "# -----------------------\n",
    "# Normalization\n",
    "# -----------------------\n",
    "mean = np.mean(segments)\n",
    "std = np.std(segments)\n",
    "segments = (segments - mean) / (std + 1e-8)\n",
    "\n",
    "# -----------------------\n",
    "# Train/Val/Test Split\n",
    "# -----------------------\n",
    "# First split into train+val and test\n",
    "X_trainval, X_test, y_trainval, y_test = train_test_split(\n",
    "    segments, labels, test_size=test_size, random_state=random_state, stratify=labels\n",
    ")\n",
    "\n",
    "val_fraction = val_size / (1 - test_size)\n",
    "X_train, X_val, y_train, y_val = train_test_split(\n",
    "    X_trainval, y_trainval, test_size=val_fraction, random_state=random_state, stratify=y_trainval\n",
    ")\n",
    "\n",
    "print(\"Train set:\", X_train.shape, y_train.shape)\n",
    "print(\"Val set:\", X_val.shape, y_val.shape)\n",
    "print(\"Test set:\", X_test.shape, y_test.shape)\n",
    "\n",
    "# After this step, you have:\n",
    "# X_train, y_train, X_val, y_val, X_test, y_test\n",
    "# ready for Step 4 (patch creation for the Transformer model).\n"
   ]
  },
  {
   "cell_type": "code",
   "execution_count": 6,
   "metadata": {},
   "outputs": [
    {
     "name": "stdout",
     "output_type": "stream",
     "text": [
      "X_train_patched shape: (1658, 64, 32)\n",
      "X_val_patched shape: (237, 64, 32)\n",
      "X_test_patched shape: (474, 64, 32)\n",
      "y_train shape: (1658,)\n",
      "y_val shape: (237,)\n",
      "y_test shape: (474,)\n"
     ]
    }
   ],
   "source": [
    "\n",
    "\n",
    "# Assuming we have X_train, X_val, X_test from Step 3\n",
    "# and segment_length is known (e.g., 2048).\n",
    "# Decide on a patch size\n",
    "patch_size = 32\n",
    "assert segment_length % patch_size == 0, \"segment_length must be divisible by patch_size\"\n",
    "num_patches = segment_length // patch_size\n",
    "\n",
    "def create_patches(X, patch_size):\n",
    "    # X is of shape (N, segment_length)\n",
    "    N, L = X.shape\n",
    "    # Reshape to (N, num_patches, patch_size)\n",
    "    X_patched = X.reshape(N, num_patches, patch_size)\n",
    "    return X_patched\n",
    "\n",
    "# Apply to all splits\n",
    "X_train_patched = create_patches(X_train, patch_size)\n",
    "X_val_patched = create_patches(X_val, patch_size)\n",
    "X_test_patched = create_patches(X_test, patch_size)\n",
    "\n",
    "print(\"X_train_patched shape:\", X_train_patched.shape)\n",
    "print(\"X_val_patched shape:\", X_val_patched.shape)\n",
    "print(\"X_test_patched shape:\", X_test_patched.shape)\n",
    "\n",
    "# y_train, y_val, y_test stay the same\n",
    "print(\"y_train shape:\", y_train.shape)\n",
    "print(\"y_val shape:\", y_val.shape)\n",
    "print(\"y_test shape:\", y_test.shape)\n"
   ]
  },
  {
   "cell_type": "code",
   "execution_count": 7,
   "metadata": {},
   "outputs": [
    {
     "name": "stderr",
     "output_type": "stream",
     "text": [
      "d:\\mohan\\code\\cwru_code\\lib\\site-packages\\torch\\nn\\modules\\transformer.py:379: UserWarning: enable_nested_tensor is True, but self.use_nested_tensor is False because encoder_layer.self_attn.batch_first was not True(use batch_first for better inference performance)\n",
      "  warnings.warn(\n",
      "                                                            \r"
     ]
    },
    {
     "name": "stdout",
     "output_type": "stream",
     "text": [
      "Epoch 1: Train Loss: 1.3575, Train Acc: 0.2998, Val Loss: 1.3053, Val Acc: 0.4008\n"
     ]
    },
    {
     "name": "stderr",
     "output_type": "stream",
     "text": [
      "                                                            \r"
     ]
    },
    {
     "name": "stdout",
     "output_type": "stream",
     "text": [
      "Epoch 2: Train Loss: 1.2918, Train Acc: 0.3667, Val Loss: 1.2073, Val Acc: 0.4093\n"
     ]
    },
    {
     "name": "stderr",
     "output_type": "stream",
     "text": [
      "                                                            \r"
     ]
    },
    {
     "name": "stdout",
     "output_type": "stream",
     "text": [
      "Epoch 3: Train Loss: 1.1442, Train Acc: 0.4234, Val Loss: 1.1360, Val Acc: 0.3924\n"
     ]
    },
    {
     "name": "stderr",
     "output_type": "stream",
     "text": [
      "                                                            \r"
     ]
    },
    {
     "name": "stdout",
     "output_type": "stream",
     "text": [
      "Epoch 4: Train Loss: 0.9956, Train Acc: 0.5265, Val Loss: 0.8787, Val Acc: 0.5612\n"
     ]
    },
    {
     "name": "stderr",
     "output_type": "stream",
     "text": [
      "                                                            \r"
     ]
    },
    {
     "name": "stdout",
     "output_type": "stream",
     "text": [
      "Epoch 5: Train Loss: 0.9285, Train Acc: 0.5615, Val Loss: 0.8404, Val Acc: 0.6709\n"
     ]
    },
    {
     "name": "stderr",
     "output_type": "stream",
     "text": [
      "                                                            \r"
     ]
    },
    {
     "name": "stdout",
     "output_type": "stream",
     "text": [
      "Epoch 6: Train Loss: 0.8830, Train Acc: 0.5947, Val Loss: 0.8105, Val Acc: 0.5907\n"
     ]
    },
    {
     "name": "stderr",
     "output_type": "stream",
     "text": [
      "                                                            \r"
     ]
    },
    {
     "name": "stdout",
     "output_type": "stream",
     "text": [
      "Epoch 7: Train Loss: 0.8815, Train Acc: 0.5953, Val Loss: 0.7998, Val Acc: 0.6667\n"
     ]
    },
    {
     "name": "stderr",
     "output_type": "stream",
     "text": [
      "                                                            \r"
     ]
    },
    {
     "name": "stdout",
     "output_type": "stream",
     "text": [
      "Epoch 8: Train Loss: 0.8302, Train Acc: 0.6188, Val Loss: 0.8041, Val Acc: 0.6118\n"
     ]
    },
    {
     "name": "stderr",
     "output_type": "stream",
     "text": [
      "                                                            \r"
     ]
    },
    {
     "name": "stdout",
     "output_type": "stream",
     "text": [
      "Epoch 9: Train Loss: 0.8301, Train Acc: 0.6206, Val Loss: 0.7904, Val Acc: 0.6371\n"
     ]
    },
    {
     "name": "stderr",
     "output_type": "stream",
     "text": [
      "                                                             \r"
     ]
    },
    {
     "name": "stdout",
     "output_type": "stream",
     "text": [
      "Epoch 10: Train Loss: 0.7525, Train Acc: 0.6562, Val Loss: 0.7163, Val Acc: 0.6793\n"
     ]
    },
    {
     "name": "stderr",
     "output_type": "stream",
     "text": [
      "                                                             \r"
     ]
    },
    {
     "name": "stdout",
     "output_type": "stream",
     "text": [
      "Epoch 11: Train Loss: 0.7552, Train Acc: 0.6526, Val Loss: 0.6924, Val Acc: 0.7173\n"
     ]
    },
    {
     "name": "stderr",
     "output_type": "stream",
     "text": [
      "                                                             \r"
     ]
    },
    {
     "name": "stdout",
     "output_type": "stream",
     "text": [
      "Epoch 12: Train Loss: 0.7707, Train Acc: 0.6556, Val Loss: 0.7044, Val Acc: 0.6709\n"
     ]
    },
    {
     "name": "stderr",
     "output_type": "stream",
     "text": [
      "                                                             \r"
     ]
    },
    {
     "name": "stdout",
     "output_type": "stream",
     "text": [
      "Epoch 13: Train Loss: 0.7909, Train Acc: 0.6454, Val Loss: 0.7305, Val Acc: 0.7046\n"
     ]
    },
    {
     "name": "stderr",
     "output_type": "stream",
     "text": [
      "                                                             \r"
     ]
    },
    {
     "name": "stdout",
     "output_type": "stream",
     "text": [
      "Epoch 14: Train Loss: 0.7286, Train Acc: 0.6731, Val Loss: 0.7607, Val Acc: 0.6920\n"
     ]
    },
    {
     "name": "stderr",
     "output_type": "stream",
     "text": [
      "                                                             \r"
     ]
    },
    {
     "name": "stdout",
     "output_type": "stream",
     "text": [
      "Epoch 15: Train Loss: 0.7379, Train Acc: 0.6755, Val Loss: 0.6590, Val Acc: 0.7342\n"
     ]
    },
    {
     "name": "stderr",
     "output_type": "stream",
     "text": [
      "                                                             \r"
     ]
    },
    {
     "name": "stdout",
     "output_type": "stream",
     "text": [
      "Epoch 16: Train Loss: 0.7038, Train Acc: 0.6815, Val Loss: 0.6878, Val Acc: 0.7046\n"
     ]
    },
    {
     "name": "stderr",
     "output_type": "stream",
     "text": [
      "                                                             \r"
     ]
    },
    {
     "name": "stdout",
     "output_type": "stream",
     "text": [
      "Epoch 17: Train Loss: 0.7286, Train Acc: 0.6683, Val Loss: 0.7470, Val Acc: 0.7131\n"
     ]
    },
    {
     "name": "stderr",
     "output_type": "stream",
     "text": [
      "                                                             \r"
     ]
    },
    {
     "name": "stdout",
     "output_type": "stream",
     "text": [
      "Epoch 18: Train Loss: 0.7518, Train Acc: 0.6840, Val Loss: 0.6334, Val Acc: 0.7089\n"
     ]
    },
    {
     "name": "stderr",
     "output_type": "stream",
     "text": [
      "                                                             \r"
     ]
    },
    {
     "name": "stdout",
     "output_type": "stream",
     "text": [
      "Epoch 19: Train Loss: 0.7120, Train Acc: 0.6834, Val Loss: 0.7139, Val Acc: 0.6582\n"
     ]
    },
    {
     "name": "stderr",
     "output_type": "stream",
     "text": [
      "                                                             \r"
     ]
    },
    {
     "name": "stdout",
     "output_type": "stream",
     "text": [
      "Epoch 20: Train Loss: 0.6731, Train Acc: 0.6996, Val Loss: 0.6429, Val Acc: 0.7173\n"
     ]
    },
    {
     "name": "stderr",
     "output_type": "stream",
     "text": [
      "                                                             \r"
     ]
    },
    {
     "name": "stdout",
     "output_type": "stream",
     "text": [
      "Epoch 21: Train Loss: 0.6961, Train Acc: 0.6948, Val Loss: 0.6920, Val Acc: 0.7215\n"
     ]
    },
    {
     "name": "stderr",
     "output_type": "stream",
     "text": [
      "                                                             \r"
     ]
    },
    {
     "name": "stdout",
     "output_type": "stream",
     "text": [
      "Epoch 22: Train Loss: 0.6898, Train Acc: 0.6948, Val Loss: 0.5839, Val Acc: 0.7722\n"
     ]
    },
    {
     "name": "stderr",
     "output_type": "stream",
     "text": [
      "                                                             \r"
     ]
    },
    {
     "name": "stdout",
     "output_type": "stream",
     "text": [
      "Epoch 23: Train Loss: 0.6199, Train Acc: 0.7328, Val Loss: 0.5162, Val Acc: 0.7553\n"
     ]
    },
    {
     "name": "stderr",
     "output_type": "stream",
     "text": [
      "                                                             \r"
     ]
    },
    {
     "name": "stdout",
     "output_type": "stream",
     "text": [
      "Epoch 24: Train Loss: 0.6516, Train Acc: 0.7214, Val Loss: 0.5686, Val Acc: 0.7173\n"
     ]
    },
    {
     "name": "stderr",
     "output_type": "stream",
     "text": [
      "                                                             \r"
     ]
    },
    {
     "name": "stdout",
     "output_type": "stream",
     "text": [
      "Epoch 25: Train Loss: 0.6479, Train Acc: 0.7292, Val Loss: 0.5921, Val Acc: 0.7468\n"
     ]
    },
    {
     "name": "stderr",
     "output_type": "stream",
     "text": [
      "                                                             \r"
     ]
    },
    {
     "name": "stdout",
     "output_type": "stream",
     "text": [
      "Epoch 26: Train Loss: 0.6048, Train Acc: 0.7376, Val Loss: 0.5943, Val Acc: 0.7384\n"
     ]
    },
    {
     "name": "stderr",
     "output_type": "stream",
     "text": [
      "                                                             \r"
     ]
    },
    {
     "name": "stdout",
     "output_type": "stream",
     "text": [
      "Epoch 27: Train Loss: 0.7325, Train Acc: 0.6737, Val Loss: 0.6054, Val Acc: 0.7004\n"
     ]
    },
    {
     "name": "stderr",
     "output_type": "stream",
     "text": [
      "                                                             \r"
     ]
    },
    {
     "name": "stdout",
     "output_type": "stream",
     "text": [
      "Epoch 28: Train Loss: 0.6432, Train Acc: 0.7177, Val Loss: 0.6321, Val Acc: 0.7215\n"
     ]
    },
    {
     "name": "stderr",
     "output_type": "stream",
     "text": [
      "                                                             \r"
     ]
    },
    {
     "name": "stdout",
     "output_type": "stream",
     "text": [
      "Epoch 29: Train Loss: 0.5934, Train Acc: 0.7431, Val Loss: 0.5819, Val Acc: 0.7342\n"
     ]
    },
    {
     "name": "stderr",
     "output_type": "stream",
     "text": [
      "                                                             \r"
     ]
    },
    {
     "name": "stdout",
     "output_type": "stream",
     "text": [
      "Epoch 30: Train Loss: 0.7254, Train Acc: 0.6755, Val Loss: 0.6377, Val Acc: 0.7595\n"
     ]
    },
    {
     "name": "stderr",
     "output_type": "stream",
     "text": [
      "                                                             \r"
     ]
    },
    {
     "name": "stdout",
     "output_type": "stream",
     "text": [
      "Epoch 31: Train Loss: 0.6547, Train Acc: 0.7201, Val Loss: 0.5995, Val Acc: 0.7342\n"
     ]
    },
    {
     "name": "stderr",
     "output_type": "stream",
     "text": [
      "                                                             \r"
     ]
    },
    {
     "name": "stdout",
     "output_type": "stream",
     "text": [
      "Epoch 32: Train Loss: 0.6938, Train Acc: 0.6888, Val Loss: 0.5953, Val Acc: 0.7679\n"
     ]
    },
    {
     "name": "stderr",
     "output_type": "stream",
     "text": [
      "                                                             \r"
     ]
    },
    {
     "name": "stdout",
     "output_type": "stream",
     "text": [
      "Epoch 33: Train Loss: 0.6017, Train Acc: 0.7473, Val Loss: 0.5599, Val Acc: 0.7511\n"
     ]
    },
    {
     "name": "stderr",
     "output_type": "stream",
     "text": [
      "                                                             \r"
     ]
    },
    {
     "name": "stdout",
     "output_type": "stream",
     "text": [
      "Epoch 34: Train Loss: 0.6045, Train Acc: 0.7346, Val Loss: 0.7136, Val Acc: 0.6624\n"
     ]
    },
    {
     "name": "stderr",
     "output_type": "stream",
     "text": [
      "                                                             \r"
     ]
    },
    {
     "name": "stdout",
     "output_type": "stream",
     "text": [
      "Epoch 35: Train Loss: 0.6761, Train Acc: 0.7093, Val Loss: 0.6355, Val Acc: 0.7046\n"
     ]
    },
    {
     "name": "stderr",
     "output_type": "stream",
     "text": [
      "                                                             \r"
     ]
    },
    {
     "name": "stdout",
     "output_type": "stream",
     "text": [
      "Epoch 36: Train Loss: 0.5679, Train Acc: 0.7690, Val Loss: 0.5174, Val Acc: 0.7806\n"
     ]
    },
    {
     "name": "stderr",
     "output_type": "stream",
     "text": [
      "                                                             \r"
     ]
    },
    {
     "name": "stdout",
     "output_type": "stream",
     "text": [
      "Epoch 37: Train Loss: 0.5789, Train Acc: 0.7569, Val Loss: 0.5125, Val Acc: 0.7637\n"
     ]
    },
    {
     "name": "stderr",
     "output_type": "stream",
     "text": [
      "                                                             \r"
     ]
    },
    {
     "name": "stdout",
     "output_type": "stream",
     "text": [
      "Epoch 38: Train Loss: 0.5636, Train Acc: 0.7563, Val Loss: 0.5447, Val Acc: 0.7848\n"
     ]
    },
    {
     "name": "stderr",
     "output_type": "stream",
     "text": [
      "                                                             \r"
     ]
    },
    {
     "name": "stdout",
     "output_type": "stream",
     "text": [
      "Epoch 39: Train Loss: 0.6134, Train Acc: 0.7461, Val Loss: 0.5175, Val Acc: 0.7722\n"
     ]
    },
    {
     "name": "stderr",
     "output_type": "stream",
     "text": [
      "                                                             \r"
     ]
    },
    {
     "name": "stdout",
     "output_type": "stream",
     "text": [
      "Epoch 40: Train Loss: 0.5627, Train Acc: 0.7636, Val Loss: 0.5726, Val Acc: 0.7679\n"
     ]
    },
    {
     "name": "stderr",
     "output_type": "stream",
     "text": [
      "                                                             \r"
     ]
    },
    {
     "name": "stdout",
     "output_type": "stream",
     "text": [
      "Epoch 41: Train Loss: 0.5708, Train Acc: 0.7612, Val Loss: 0.5581, Val Acc: 0.7637\n"
     ]
    },
    {
     "name": "stderr",
     "output_type": "stream",
     "text": [
      "                                                             \r"
     ]
    },
    {
     "name": "stdout",
     "output_type": "stream",
     "text": [
      "Epoch 42: Train Loss: 0.6167, Train Acc: 0.7382, Val Loss: 0.6010, Val Acc: 0.7637\n"
     ]
    },
    {
     "name": "stderr",
     "output_type": "stream",
     "text": [
      "                                                             \r"
     ]
    },
    {
     "name": "stdout",
     "output_type": "stream",
     "text": [
      "Epoch 43: Train Loss: 0.6085, Train Acc: 0.7370, Val Loss: 0.5799, Val Acc: 0.7426\n"
     ]
    },
    {
     "name": "stderr",
     "output_type": "stream",
     "text": [
      "                                                             \r"
     ]
    },
    {
     "name": "stdout",
     "output_type": "stream",
     "text": [
      "Epoch 44: Train Loss: 0.6530, Train Acc: 0.7250, Val Loss: 0.5383, Val Acc: 0.7595\n"
     ]
    },
    {
     "name": "stderr",
     "output_type": "stream",
     "text": [
      "                                                             \r"
     ]
    },
    {
     "name": "stdout",
     "output_type": "stream",
     "text": [
      "Epoch 45: Train Loss: 0.5556, Train Acc: 0.7666, Val Loss: 0.5435, Val Acc: 0.7595\n"
     ]
    },
    {
     "name": "stderr",
     "output_type": "stream",
     "text": [
      "                                                             \r"
     ]
    },
    {
     "name": "stdout",
     "output_type": "stream",
     "text": [
      "Epoch 46: Train Loss: 0.5927, Train Acc: 0.7581, Val Loss: 0.5895, Val Acc: 0.7300\n"
     ]
    },
    {
     "name": "stderr",
     "output_type": "stream",
     "text": [
      "                                                             \r"
     ]
    },
    {
     "name": "stdout",
     "output_type": "stream",
     "text": [
      "Epoch 47: Train Loss: 0.5698, Train Acc: 0.7642, Val Loss: 0.5659, Val Acc: 0.7468\n"
     ]
    },
    {
     "name": "stderr",
     "output_type": "stream",
     "text": [
      "                                                             \r"
     ]
    },
    {
     "name": "stdout",
     "output_type": "stream",
     "text": [
      "Epoch 48: Train Loss: 0.5155, Train Acc: 0.7780, Val Loss: 0.5589, Val Acc: 0.7679\n"
     ]
    },
    {
     "name": "stderr",
     "output_type": "stream",
     "text": [
      "                                                             \r"
     ]
    },
    {
     "name": "stdout",
     "output_type": "stream",
     "text": [
      "Epoch 49: Train Loss: 0.5724, Train Acc: 0.7509, Val Loss: 0.5857, Val Acc: 0.7848\n"
     ]
    },
    {
     "name": "stderr",
     "output_type": "stream",
     "text": [
      "                                                             \r"
     ]
    },
    {
     "name": "stdout",
     "output_type": "stream",
     "text": [
      "Epoch 50: Train Loss: 0.5507, Train Acc: 0.7624, Val Loss: 0.5819, Val Acc: 0.7722\n"
     ]
    },
    {
     "name": "stderr",
     "output_type": "stream",
     "text": [
      "                                                             \r"
     ]
    },
    {
     "name": "stdout",
     "output_type": "stream",
     "text": [
      "Epoch 51: Train Loss: 0.5415, Train Acc: 0.7799, Val Loss: 0.4235, Val Acc: 0.8143\n"
     ]
    },
    {
     "name": "stderr",
     "output_type": "stream",
     "text": [
      "                                                             \r"
     ]
    },
    {
     "name": "stdout",
     "output_type": "stream",
     "text": [
      "Epoch 52: Train Loss: 0.5482, Train Acc: 0.7738, Val Loss: 0.5095, Val Acc: 0.7764\n"
     ]
    },
    {
     "name": "stderr",
     "output_type": "stream",
     "text": [
      "                                                             \r"
     ]
    },
    {
     "name": "stdout",
     "output_type": "stream",
     "text": [
      "Epoch 53: Train Loss: 0.5914, Train Acc: 0.7521, Val Loss: 0.5004, Val Acc: 0.7764\n"
     ]
    },
    {
     "name": "stderr",
     "output_type": "stream",
     "text": [
      "                                                             \r"
     ]
    },
    {
     "name": "stdout",
     "output_type": "stream",
     "text": [
      "Epoch 54: Train Loss: 0.5539, Train Acc: 0.7648, Val Loss: 0.4484, Val Acc: 0.8017\n"
     ]
    },
    {
     "name": "stderr",
     "output_type": "stream",
     "text": [
      "                                                             \r"
     ]
    },
    {
     "name": "stdout",
     "output_type": "stream",
     "text": [
      "Epoch 55: Train Loss: 0.5698, Train Acc: 0.7479, Val Loss: 0.5739, Val Acc: 0.7806\n"
     ]
    },
    {
     "name": "stderr",
     "output_type": "stream",
     "text": [
      "                                                             \r"
     ]
    },
    {
     "name": "stdout",
     "output_type": "stream",
     "text": [
      "Epoch 56: Train Loss: 0.5342, Train Acc: 0.7780, Val Loss: 0.4831, Val Acc: 0.7890\n"
     ]
    },
    {
     "name": "stderr",
     "output_type": "stream",
     "text": [
      "                                                             \r"
     ]
    },
    {
     "name": "stdout",
     "output_type": "stream",
     "text": [
      "Epoch 57: Train Loss: 0.5311, Train Acc: 0.7750, Val Loss: 0.6302, Val Acc: 0.7215\n"
     ]
    },
    {
     "name": "stderr",
     "output_type": "stream",
     "text": [
      "                                                             \r"
     ]
    },
    {
     "name": "stdout",
     "output_type": "stream",
     "text": [
      "Epoch 58: Train Loss: 0.5904, Train Acc: 0.7443, Val Loss: 0.4972, Val Acc: 0.7932\n"
     ]
    },
    {
     "name": "stderr",
     "output_type": "stream",
     "text": [
      "                                                             \r"
     ]
    },
    {
     "name": "stdout",
     "output_type": "stream",
     "text": [
      "Epoch 59: Train Loss: 0.5723, Train Acc: 0.7569, Val Loss: 0.5540, Val Acc: 0.7890\n"
     ]
    },
    {
     "name": "stderr",
     "output_type": "stream",
     "text": [
      "                                                             \r"
     ]
    },
    {
     "name": "stdout",
     "output_type": "stream",
     "text": [
      "Epoch 60: Train Loss: 0.5182, Train Acc: 0.7780, Val Loss: 0.4242, Val Acc: 0.7932\n"
     ]
    },
    {
     "name": "stderr",
     "output_type": "stream",
     "text": [
      "                                                             \r"
     ]
    },
    {
     "name": "stdout",
     "output_type": "stream",
     "text": [
      "Epoch 61: Train Loss: 0.5363, Train Acc: 0.7618, Val Loss: 0.5690, Val Acc: 0.7806\n"
     ]
    },
    {
     "name": "stderr",
     "output_type": "stream",
     "text": [
      "                                                             \r"
     ]
    },
    {
     "name": "stdout",
     "output_type": "stream",
     "text": [
      "Epoch 62: Train Loss: 0.5608, Train Acc: 0.7581, Val Loss: 0.5387, Val Acc: 0.7722\n"
     ]
    },
    {
     "name": "stderr",
     "output_type": "stream",
     "text": [
      "                                                             \r"
     ]
    },
    {
     "name": "stdout",
     "output_type": "stream",
     "text": [
      "Epoch 63: Train Loss: 0.5220, Train Acc: 0.7859, Val Loss: 0.3938, Val Acc: 0.8186\n"
     ]
    },
    {
     "name": "stderr",
     "output_type": "stream",
     "text": [
      "                                                             \r"
     ]
    },
    {
     "name": "stdout",
     "output_type": "stream",
     "text": [
      "Epoch 64: Train Loss: 0.5457, Train Acc: 0.7642, Val Loss: 0.6909, Val Acc: 0.7215\n"
     ]
    },
    {
     "name": "stderr",
     "output_type": "stream",
     "text": [
      "                                                             \r"
     ]
    },
    {
     "name": "stdout",
     "output_type": "stream",
     "text": [
      "Epoch 65: Train Loss: 0.5512, Train Acc: 0.7678, Val Loss: 0.4628, Val Acc: 0.8312\n"
     ]
    },
    {
     "name": "stderr",
     "output_type": "stream",
     "text": [
      "                                                             \r"
     ]
    },
    {
     "name": "stdout",
     "output_type": "stream",
     "text": [
      "Epoch 66: Train Loss: 0.5587, Train Acc: 0.7581, Val Loss: 0.4825, Val Acc: 0.7637\n"
     ]
    },
    {
     "name": "stderr",
     "output_type": "stream",
     "text": [
      "                                                             \r"
     ]
    },
    {
     "name": "stdout",
     "output_type": "stream",
     "text": [
      "Epoch 67: Train Loss: 0.5018, Train Acc: 0.7883, Val Loss: 0.4273, Val Acc: 0.8312\n"
     ]
    },
    {
     "name": "stderr",
     "output_type": "stream",
     "text": [
      "                                                             \r"
     ]
    },
    {
     "name": "stdout",
     "output_type": "stream",
     "text": [
      "Epoch 68: Train Loss: 0.5255, Train Acc: 0.7720, Val Loss: 0.4573, Val Acc: 0.8017\n"
     ]
    },
    {
     "name": "stderr",
     "output_type": "stream",
     "text": [
      "                                                             \r"
     ]
    },
    {
     "name": "stdout",
     "output_type": "stream",
     "text": [
      "Epoch 69: Train Loss: 0.5473, Train Acc: 0.7756, Val Loss: 0.4432, Val Acc: 0.8101\n"
     ]
    },
    {
     "name": "stderr",
     "output_type": "stream",
     "text": [
      "                                                             \r"
     ]
    },
    {
     "name": "stdout",
     "output_type": "stream",
     "text": [
      "Epoch 70: Train Loss: 0.5275, Train Acc: 0.7708, Val Loss: 0.4457, Val Acc: 0.8017\n"
     ]
    },
    {
     "name": "stderr",
     "output_type": "stream",
     "text": [
      "                                                             \r"
     ]
    },
    {
     "name": "stdout",
     "output_type": "stream",
     "text": [
      "Epoch 71: Train Loss: 0.5149, Train Acc: 0.7829, Val Loss: 0.4717, Val Acc: 0.8017\n"
     ]
    },
    {
     "name": "stderr",
     "output_type": "stream",
     "text": [
      "                                                             \r"
     ]
    },
    {
     "name": "stdout",
     "output_type": "stream",
     "text": [
      "Epoch 72: Train Loss: 0.5403, Train Acc: 0.7587, Val Loss: 0.4940, Val Acc: 0.7806\n"
     ]
    },
    {
     "name": "stderr",
     "output_type": "stream",
     "text": [
      "                                                             \r"
     ]
    },
    {
     "name": "stdout",
     "output_type": "stream",
     "text": [
      "Epoch 73: Train Loss: 0.4942, Train Acc: 0.7986, Val Loss: 0.4051, Val Acc: 0.8354\n"
     ]
    },
    {
     "name": "stderr",
     "output_type": "stream",
     "text": [
      "                                                             \r"
     ]
    },
    {
     "name": "stdout",
     "output_type": "stream",
     "text": [
      "Epoch 74: Train Loss: 0.4922, Train Acc: 0.7817, Val Loss: 0.5422, Val Acc: 0.7848\n"
     ]
    },
    {
     "name": "stderr",
     "output_type": "stream",
     "text": [
      "                                                             \r"
     ]
    },
    {
     "name": "stdout",
     "output_type": "stream",
     "text": [
      "Epoch 75: Train Loss: 0.5205, Train Acc: 0.7774, Val Loss: 0.5238, Val Acc: 0.7806\n"
     ]
    },
    {
     "name": "stderr",
     "output_type": "stream",
     "text": [
      "                                                             \r"
     ]
    },
    {
     "name": "stdout",
     "output_type": "stream",
     "text": [
      "Epoch 76: Train Loss: 0.5722, Train Acc: 0.7527, Val Loss: 0.3781, Val Acc: 0.8397\n"
     ]
    },
    {
     "name": "stderr",
     "output_type": "stream",
     "text": [
      "                                                             \r"
     ]
    },
    {
     "name": "stdout",
     "output_type": "stream",
     "text": [
      "Epoch 77: Train Loss: 0.5559, Train Acc: 0.7672, Val Loss: 0.4940, Val Acc: 0.7975\n"
     ]
    },
    {
     "name": "stderr",
     "output_type": "stream",
     "text": [
      "                                                             \r"
     ]
    },
    {
     "name": "stdout",
     "output_type": "stream",
     "text": [
      "Epoch 78: Train Loss: 0.5492, Train Acc: 0.7720, Val Loss: 0.5471, Val Acc: 0.7553\n"
     ]
    },
    {
     "name": "stderr",
     "output_type": "stream",
     "text": [
      "                                                             \r"
     ]
    },
    {
     "name": "stdout",
     "output_type": "stream",
     "text": [
      "Epoch 79: Train Loss: 0.5161, Train Acc: 0.7823, Val Loss: 0.4209, Val Acc: 0.8143\n"
     ]
    },
    {
     "name": "stderr",
     "output_type": "stream",
     "text": [
      "                                                             \r"
     ]
    },
    {
     "name": "stdout",
     "output_type": "stream",
     "text": [
      "Epoch 80: Train Loss: 0.5062, Train Acc: 0.7793, Val Loss: 0.4974, Val Acc: 0.7764\n"
     ]
    },
    {
     "name": "stderr",
     "output_type": "stream",
     "text": [
      "                                                             \r"
     ]
    },
    {
     "name": "stdout",
     "output_type": "stream",
     "text": [
      "Epoch 81: Train Loss: 0.5244, Train Acc: 0.7714, Val Loss: 0.4725, Val Acc: 0.8017\n"
     ]
    },
    {
     "name": "stderr",
     "output_type": "stream",
     "text": [
      "                                                             \r"
     ]
    },
    {
     "name": "stdout",
     "output_type": "stream",
     "text": [
      "Epoch 82: Train Loss: 0.5062, Train Acc: 0.7811, Val Loss: 0.5399, Val Acc: 0.7806\n"
     ]
    },
    {
     "name": "stderr",
     "output_type": "stream",
     "text": [
      "                                                             \r"
     ]
    },
    {
     "name": "stdout",
     "output_type": "stream",
     "text": [
      "Epoch 83: Train Loss: 0.5153, Train Acc: 0.7732, Val Loss: 0.4029, Val Acc: 0.8059\n"
     ]
    },
    {
     "name": "stderr",
     "output_type": "stream",
     "text": [
      "                                                             \r"
     ]
    },
    {
     "name": "stdout",
     "output_type": "stream",
     "text": [
      "Epoch 84: Train Loss: 0.4978, Train Acc: 0.7931, Val Loss: 0.4492, Val Acc: 0.8312\n"
     ]
    },
    {
     "name": "stderr",
     "output_type": "stream",
     "text": [
      "                                                             \r"
     ]
    },
    {
     "name": "stdout",
     "output_type": "stream",
     "text": [
      "Epoch 85: Train Loss: 0.4857, Train Acc: 0.7865, Val Loss: 0.5409, Val Acc: 0.7595\n"
     ]
    },
    {
     "name": "stderr",
     "output_type": "stream",
     "text": [
      "                                                             \r"
     ]
    },
    {
     "name": "stdout",
     "output_type": "stream",
     "text": [
      "Epoch 86: Train Loss: 0.5295, Train Acc: 0.7750, Val Loss: 0.3998, Val Acc: 0.8228\n"
     ]
    },
    {
     "name": "stderr",
     "output_type": "stream",
     "text": [
      "                                                             \r"
     ]
    },
    {
     "name": "stdout",
     "output_type": "stream",
     "text": [
      "Epoch 87: Train Loss: 0.5425, Train Acc: 0.7660, Val Loss: 0.4146, Val Acc: 0.7848\n"
     ]
    },
    {
     "name": "stderr",
     "output_type": "stream",
     "text": [
      "                                                             \r"
     ]
    },
    {
     "name": "stdout",
     "output_type": "stream",
     "text": [
      "Epoch 88: Train Loss: 0.4912, Train Acc: 0.7841, Val Loss: 0.4312, Val Acc: 0.7932\n"
     ]
    },
    {
     "name": "stderr",
     "output_type": "stream",
     "text": [
      "                                                             \r"
     ]
    },
    {
     "name": "stdout",
     "output_type": "stream",
     "text": [
      "Epoch 89: Train Loss: 0.5131, Train Acc: 0.7774, Val Loss: 0.3886, Val Acc: 0.8143\n"
     ]
    },
    {
     "name": "stderr",
     "output_type": "stream",
     "text": [
      "                                                             \r"
     ]
    },
    {
     "name": "stdout",
     "output_type": "stream",
     "text": [
      "Epoch 90: Train Loss: 0.4948, Train Acc: 0.7811, Val Loss: 0.4557, Val Acc: 0.7975\n"
     ]
    },
    {
     "name": "stderr",
     "output_type": "stream",
     "text": [
      "                                                             \r"
     ]
    },
    {
     "name": "stdout",
     "output_type": "stream",
     "text": [
      "Epoch 91: Train Loss: 0.4805, Train Acc: 0.7877, Val Loss: 0.4093, Val Acc: 0.8228\n"
     ]
    },
    {
     "name": "stderr",
     "output_type": "stream",
     "text": [
      "                                                             \r"
     ]
    },
    {
     "name": "stdout",
     "output_type": "stream",
     "text": [
      "Epoch 92: Train Loss: 0.5317, Train Acc: 0.7630, Val Loss: 0.3700, Val Acc: 0.8354\n"
     ]
    },
    {
     "name": "stderr",
     "output_type": "stream",
     "text": [
      "                                                             \r"
     ]
    },
    {
     "name": "stdout",
     "output_type": "stream",
     "text": [
      "Epoch 93: Train Loss: 0.4873, Train Acc: 0.7853, Val Loss: 0.5440, Val Acc: 0.7806\n"
     ]
    },
    {
     "name": "stderr",
     "output_type": "stream",
     "text": [
      "                                                             \r"
     ]
    },
    {
     "name": "stdout",
     "output_type": "stream",
     "text": [
      "Epoch 94: Train Loss: 0.5123, Train Acc: 0.7799, Val Loss: 0.5025, Val Acc: 0.7848\n"
     ]
    },
    {
     "name": "stderr",
     "output_type": "stream",
     "text": [
      "                                                             \r"
     ]
    },
    {
     "name": "stdout",
     "output_type": "stream",
     "text": [
      "Epoch 95: Train Loss: 0.5067, Train Acc: 0.7774, Val Loss: 0.4417, Val Acc: 0.8354\n"
     ]
    },
    {
     "name": "stderr",
     "output_type": "stream",
     "text": [
      "                                                             \r"
     ]
    },
    {
     "name": "stdout",
     "output_type": "stream",
     "text": [
      "Epoch 96: Train Loss: 0.4854, Train Acc: 0.7805, Val Loss: 0.4743, Val Acc: 0.8270\n"
     ]
    },
    {
     "name": "stderr",
     "output_type": "stream",
     "text": [
      "                                                             \r"
     ]
    },
    {
     "name": "stdout",
     "output_type": "stream",
     "text": [
      "Epoch 97: Train Loss: 0.5284, Train Acc: 0.7726, Val Loss: 0.4311, Val Acc: 0.8101\n"
     ]
    },
    {
     "name": "stderr",
     "output_type": "stream",
     "text": [
      "                                                             \r"
     ]
    },
    {
     "name": "stdout",
     "output_type": "stream",
     "text": [
      "Epoch 98: Train Loss: 0.4965, Train Acc: 0.7901, Val Loss: 0.4173, Val Acc: 0.8397\n"
     ]
    },
    {
     "name": "stderr",
     "output_type": "stream",
     "text": [
      "                                                             \r"
     ]
    },
    {
     "name": "stdout",
     "output_type": "stream",
     "text": [
      "Epoch 99: Train Loss: 0.4566, Train Acc: 0.7937, Val Loss: 0.4024, Val Acc: 0.8017\n"
     ]
    },
    {
     "name": "stderr",
     "output_type": "stream",
     "text": [
      "                                                              \r"
     ]
    },
    {
     "name": "stdout",
     "output_type": "stream",
     "text": [
      "Epoch 100: Train Loss: 0.4585, Train Acc: 0.8040, Val Loss: 0.4497, Val Acc: 0.7932\n",
      "Test Accuracy: 0.7869\n"
     ]
    }
   ],
   "source": [
    "import torch\n",
    "import torch.nn as nn\n",
    "import torch.optim as optim\n",
    "from torch.utils.data import TensorDataset, DataLoader\n",
    "from tqdm import tqdm\n",
    "\n",
    "# -----------------------\n",
    "# User Configuration\n",
    "# -----------------------\n",
    "num_epochs = 100\n",
    "batch_size = 32\n",
    "learning_rate = 1e-3\n",
    "num_classes = 4  # Normal, Ball b, Inner Race, Outer Race\n",
    "\n",
    "device = torch.device(\"cuda\" if torch.cuda.is_available() else \"cpu\")\n",
    "\n",
    "# Assume we have X_train_patched, y_train, X_val_patched, y_val, X_test_patched, y_test as NumPy arrays\n",
    "# Convert them to PyTorch tensors\n",
    "X_train_tensor = torch.tensor(X_train_patched, dtype=torch.float32)\n",
    "y_train_tensor = torch.tensor(y_train, dtype=torch.long)\n",
    "X_val_tensor = torch.tensor(X_val_patched, dtype=torch.float32)\n",
    "y_val_tensor = torch.tensor(y_val, dtype=torch.long)\n",
    "X_test_tensor = torch.tensor(X_test_patched, dtype=torch.float32)\n",
    "y_test_tensor = torch.tensor(y_test, dtype=torch.long)\n",
    "\n",
    "# Create DataLoaders\n",
    "train_dataset = TensorDataset(X_train_tensor, y_train_tensor)\n",
    "val_dataset = TensorDataset(X_val_tensor, y_val_tensor)\n",
    "test_dataset = TensorDataset(X_test_tensor, y_test_tensor)\n",
    "\n",
    "train_loader = DataLoader(train_dataset, batch_size=batch_size, shuffle=True)\n",
    "val_loader = DataLoader(val_dataset, batch_size=batch_size)\n",
    "test_loader = DataLoader(test_dataset, batch_size=batch_size)\n",
    "\n",
    "# -----------------------\n",
    "# Model Definition\n",
    "# -----------------------\n",
    "# Pseudocode / Example:\n",
    "# If you have a PatchTST model class, load it here. For demonstration, let's define a generic model:\n",
    "# Replace `YourPatchTSTModelClass` with the actual class name when using a real model.\n",
    "\n",
    "class YourPatchTSTModelClass(nn.Module):\n",
    "    def __init__(self, d_model=64, num_layers=2, num_heads=4, num_patches=64, patch_size=32):\n",
    "        super().__init__()\n",
    "        # This is a placeholder. In practice, you would initialize the PatchTST model components here.\n",
    "        # For demonstration, we use a simple transformer encoder and global pooling:\n",
    "        \n",
    "        encoder_layer = nn.TransformerEncoderLayer(d_model=d_model, nhead=num_heads)\n",
    "        self.transformer = nn.TransformerEncoder(encoder_layer, num_layers=num_layers)\n",
    "        \n",
    "        # Classification head will be added after we get the transformed features\n",
    "        self.classifier = nn.Linear(d_model, num_classes)\n",
    "        \n",
    "        # Positional encoding or other embeddings would be defined here as needed\n",
    "\n",
    "    def forward(self, x):\n",
    "        # x shape: (batch, num_patches, patch_size)\n",
    "        # For a real PatchTST, you would have patch embedding + positional encoding steps here.\n",
    "        \n",
    "        # Let's assume we simply flatten patch dimension to feed into a linear layer:\n",
    "        # In a real scenario, you'd have embeddings and feed into the transformer properly.\n",
    "        \n",
    "        # For demonstration, we'll treat each patch as a token and feed directly:\n",
    "        batch_size, num_patches, patch_size = x.size()\n",
    "        \n",
    "        # Simple linear projection to d_model\n",
    "        d_model = 64\n",
    "        projection = nn.Linear(patch_size, d_model).to(x.device)\n",
    "        x = projection(x)  # shape: (batch, num_patches, d_model)\n",
    "        \n",
    "        # Transformer expects (seq_len, batch, embedding_dim)\n",
    "        x = x.permute(1, 0, 2)  # (num_patches, batch, d_model)\n",
    "        \n",
    "        # Pass through transformer\n",
    "        encoded = self.transformer(x)  # (num_patches, batch, d_model)\n",
    "        \n",
    "        # Global average pooling over patches\n",
    "        encoded = encoded.mean(dim=0)  # (batch, d_model)\n",
    "        \n",
    "        # Classification\n",
    "        logits = self.classifier(encoded)  # (batch, num_classes)\n",
    "        return logits\n",
    "\n",
    "model = YourPatchTSTModelClass().to(device)\n",
    "\n",
    "# -----------------------\n",
    "# Training Setup\n",
    "# -----------------------\n",
    "criterion = nn.CrossEntropyLoss()\n",
    "optimizer = optim.AdamW(model.parameters(), lr=learning_rate)\n",
    "\n",
    "# -----------------------\n",
    "# Training Loop\n",
    "# -----------------------\n",
    "for epoch in range(num_epochs):\n",
    "    model.train()\n",
    "    train_loss = 0\n",
    "    train_correct = 0\n",
    "    total = 0\n",
    "    \n",
    "    for X_batch, y_batch in tqdm(train_loader, desc=f\"Epoch {epoch+1}/{num_epochs}\", leave=False):\n",
    "        X_batch, y_batch = X_batch.to(device), y_batch.to(device)\n",
    "\n",
    "        optimizer.zero_grad()\n",
    "        outputs = model(X_batch)  \n",
    "        loss = criterion(outputs, y_batch)\n",
    "        loss.backward()\n",
    "        optimizer.step()\n",
    "\n",
    "        train_loss += loss.item() * X_batch.size(0)\n",
    "        _, preds = outputs.max(1)\n",
    "        train_correct += preds.eq(y_batch).sum().item()\n",
    "        total += y_batch.size(0)\n",
    "    \n",
    "    train_loss /= total\n",
    "    train_acc = train_correct / total\n",
    "    \n",
    "    # Validation\n",
    "    model.eval()\n",
    "    val_loss = 0\n",
    "    val_correct = 0\n",
    "    val_total = 0\n",
    "    with torch.no_grad():\n",
    "        for X_val_batch, y_val_batch in val_loader:\n",
    "            X_val_batch, y_val_batch = X_val_batch.to(device), y_val_batch.to(device)\n",
    "            val_outputs = model(X_val_batch)\n",
    "            v_loss = criterion(val_outputs, y_val_batch)\n",
    "            val_loss += v_loss.item() * X_val_batch.size(0)\n",
    "            _, val_preds = val_outputs.max(1)\n",
    "            val_correct += val_preds.eq(y_val_batch).sum().item()\n",
    "            val_total += y_val_batch.size(0)\n",
    "    \n",
    "    val_loss /= val_total\n",
    "    val_acc = val_correct / val_total\n",
    "    \n",
    "    print(f\"Epoch {epoch+1}: Train Loss: {train_loss:.4f}, Train Acc: {train_acc:.4f}, \"\n",
    "          f\"Val Loss: {val_loss:.4f}, Val Acc: {val_acc:.4f}\")\n",
    "\n",
    "# -----------------------\n",
    "# Testing\n",
    "# -----------------------\n",
    "model.eval()\n",
    "test_correct = 0\n",
    "test_total = 0\n",
    "with torch.no_grad():\n",
    "    for X_test_batch, y_test_batch in test_loader:\n",
    "        X_test_batch, y_test_batch = X_test_batch.to(device), y_test_batch.to(device)\n",
    "        test_outputs = model(X_test_batch)\n",
    "        _, test_preds = test_outputs.max(1)\n",
    "        test_correct += test_preds.eq(y_test_batch).sum().item()\n",
    "        test_total += y_test_batch.size(0)\n",
    "\n",
    "test_acc = test_correct / test_total\n",
    "print(f\"Test Accuracy: {test_acc:.4f}\")\n"
   ]
  },
  {
   "cell_type": "code",
   "execution_count": 8,
   "metadata": {},
   "outputs": [
    {
     "name": "stdout",
     "output_type": "stream",
     "text": [
      "Confusion Matrix:\n",
      "[[ 47   0   0   0]\n",
      " [  1 117  19   5]\n",
      " [  0   7 126   9]\n",
      " [  0  51   3  89]]\n",
      "\n",
      "Classification Report:\n",
      "              precision    recall  f1-score   support\n",
      "\n",
      "           0     0.9792    1.0000    0.9895        47\n",
      "           1     0.6686    0.8239    0.7382       142\n",
      "           2     0.8514    0.8873    0.8690       142\n",
      "           3     0.8641    0.6224    0.7236       143\n",
      "\n",
      "    accuracy                         0.7996       474\n",
      "   macro avg     0.8408    0.8334    0.8300       474\n",
      "weighted avg     0.8131    0.7996    0.7979       474\n",
      "\n"
     ]
    }
   ],
   "source": [
    "import torch\n",
    "import numpy as np\n",
    "from sklearn.metrics import confusion_matrix, classification_report\n",
    "from torch.utils.data import TensorDataset, DataLoader\n",
    "\n",
    "# Assuming these variables are available from previous steps:\n",
    "# X_test_patched: shape (N_test, num_patches, patch_size)\n",
    "# y_test: shape (N_test,)\n",
    "# model: trained model from previous steps\n",
    "\n",
    "batch_size = 32\n",
    "device = torch.device(\"cuda\" if torch.cuda.is_available() else \"cpu\")\n",
    "\n",
    "# Convert test data to tensors and create a DataLoader\n",
    "X_test_tensor = torch.tensor(X_test_patched, dtype=torch.float32)\n",
    "y_test_tensor = torch.tensor(y_test, dtype=torch.long)\n",
    "test_dataset = TensorDataset(X_test_tensor, y_test_tensor)\n",
    "test_loader = DataLoader(test_dataset, batch_size=batch_size, shuffle=False)\n",
    "\n",
    "model.eval()\n",
    "model.to(device)\n",
    "\n",
    "all_preds = []\n",
    "all_labels = []\n",
    "\n",
    "with torch.no_grad():\n",
    "    for X_batch, y_batch in test_loader:\n",
    "        X_batch = X_batch.to(device)\n",
    "        y_batch = y_batch.to(device)\n",
    "        outputs = model(X_batch)  # shape: (batch, num_classes)\n",
    "        _, preds = torch.max(outputs, dim=1)\n",
    "        all_preds.extend(preds.cpu().numpy())\n",
    "        all_labels.extend(y_batch.cpu().numpy())\n",
    "\n",
    "all_preds = np.array(all_preds)\n",
    "all_labels = np.array(all_labels)\n",
    "\n",
    "# Compute confusion matrix\n",
    "cm = confusion_matrix(all_labels, all_preds)\n",
    "print(\"Confusion Matrix:\")\n",
    "print(cm)\n",
    "\n",
    "# Compute classification report\n",
    "print(\"\\nClassification Report:\")\n",
    "print(classification_report(all_labels, all_preds, digits=4))\n"
   ]
  }
 ],
 "metadata": {
  "kernelspec": {
   "display_name": "cwru_code",
   "language": "python",
   "name": "python3"
  },
  "language_info": {
   "codemirror_mode": {
    "name": "ipython",
    "version": 3
   },
   "file_extension": ".py",
   "mimetype": "text/x-python",
   "name": "python",
   "nbconvert_exporter": "python",
   "pygments_lexer": "ipython3",
   "version": "3.10.0rc2"
  }
 },
 "nbformat": 4,
 "nbformat_minor": 2
}
